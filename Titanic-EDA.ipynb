{
 "cells": [
  {
   "cell_type": "markdown",
   "metadata": {},
   "source": [
    "### EDA - Titanic and Amex Datasets"
   ]
  },
  {
   "cell_type": "code",
   "execution_count": 1,
   "metadata": {
    "_cell_guid": "b1076dfc-b9ad-4769-8c92-a6c4dae69d19",
    "_uuid": "8f2839f25d086af736a60e9eeb907d3b93b6e0e5",
    "execution": {
     "iopub.execute_input": "2022-11-10T18:12:34.362384Z",
     "iopub.status.busy": "2022-11-10T18:12:34.361065Z",
     "iopub.status.idle": "2022-11-10T18:12:34.377830Z",
     "shell.execute_reply": "2022-11-10T18:12:34.376533Z",
     "shell.execute_reply.started": "2022-11-10T18:12:34.362304Z"
    }
   },
   "outputs": [
    {
     "name": "stdout",
     "output_type": "stream",
     "text": [
      "/kaggle/input/amex-default-prediction/sample_submission.csv\n",
      "/kaggle/input/amex-default-prediction/train_data.csv\n",
      "/kaggle/input/amex-default-prediction/test_data.csv\n",
      "/kaggle/input/amex-default-prediction/train_labels.csv\n",
      "/kaggle/input/titanic/train.csv\n",
      "/kaggle/input/titanic/test.csv\n",
      "/kaggle/input/titanic/gender_submission.csv\n"
     ]
    }
   ],
   "source": [
    "# This Python 3 environment comes with many helpful analytics libraries installed\n",
    "# It is defined by the kaggle/python Docker image: https://github.com/kaggle/docker-python\n",
    "# For example, here's several helpful packages to load\n",
    "\n",
    "import numpy as np # linear algebra\n",
    "import pandas as pd # data processing, CSV file I/O (e.g. pd.read_csv)\n",
    "\n",
    "# Input data files are available in the read-only \"../input/\" directory\n",
    "# For example, running this (by clicking run or pressing Shift+Enter) will list all files under the input directory\n",
    "\n",
    "import os\n",
    "for dirname, _, filenames in os.walk('/kaggle/input'):\n",
    "    for filename in filenames:\n",
    "        print(os.path.join(dirname, filename))\n",
    "\n",
    "# You can write up to 20GB to the current directory (/kaggle/working/) that gets preserved as output when you create a version using \"Save & Run All\" \n",
    "# You can also write temporary files to /kaggle/temp/, but they won't be saved outside of the current session"
   ]
  },
  {
   "cell_type": "code",
   "execution_count": 2,
   "metadata": {
    "execution": {
     "iopub.execute_input": "2022-11-10T18:12:34.383663Z",
     "iopub.status.busy": "2022-11-10T18:12:34.383309Z",
     "iopub.status.idle": "2022-11-10T18:12:35.062714Z",
     "shell.execute_reply": "2022-11-10T18:12:35.060710Z",
     "shell.execute_reply.started": "2022-11-10T18:12:34.383615Z"
    }
   },
   "outputs": [],
   "source": [
    "import matplotlib.pyplot as plt\n",
    "import seaborn as sns\n",
    "\n",
    "plt.rcParams[\"figure.figsize\"] = (10,8)\n",
    "sns.set(rc = {'figure.figsize':(10,8)})"
   ]
  },
  {
   "cell_type": "code",
   "execution_count": 3,
   "metadata": {
    "execution": {
     "iopub.execute_input": "2022-11-10T18:12:35.064528Z",
     "iopub.status.busy": "2022-11-10T18:12:35.064150Z",
     "iopub.status.idle": "2022-11-10T18:12:35.069762Z",
     "shell.execute_reply": "2022-11-10T18:12:35.068907Z",
     "shell.execute_reply.started": "2022-11-10T18:12:35.064479Z"
    }
   },
   "outputs": [],
   "source": [
    "# plot 2 numerical\n",
    "def numerical_plot(df, num_col1, num_col2):\n",
    "    plt.plot(df[num_col1], df[num_col2])\n",
    "    plt.xlabel(num_col1)\n",
    "    plt.ylabel(num_col2)\n",
    "    plt.show()"
   ]
  },
  {
   "cell_type": "code",
   "execution_count": 4,
   "metadata": {
    "execution": {
     "iopub.execute_input": "2022-11-10T18:12:35.073121Z",
     "iopub.status.busy": "2022-11-10T18:12:35.072517Z",
     "iopub.status.idle": "2022-11-10T18:12:35.085763Z",
     "shell.execute_reply": "2022-11-10T18:12:35.084086Z",
     "shell.execute_reply.started": "2022-11-10T18:12:35.073083Z"
    }
   },
   "outputs": [],
   "source": [
    "# plot a numeric and a categoric\n",
    "def num_cat_plot(df, num_col, cat_col):\n",
    "    sns.stripplot(x=df[cat_col], y=df[num_col], data=df)\n",
    "    plt.xlabel(cat_col)\n",
    "    plt.ylabel(num_col)\n",
    "    plt.show()"
   ]
  },
  {
   "cell_type": "code",
   "execution_count": 5,
   "metadata": {
    "execution": {
     "iopub.execute_input": "2022-11-10T18:12:35.087661Z",
     "iopub.status.busy": "2022-11-10T18:12:35.087253Z",
     "iopub.status.idle": "2022-11-10T18:12:35.096556Z",
     "shell.execute_reply": "2022-11-10T18:12:35.095559Z",
     "shell.execute_reply.started": "2022-11-10T18:12:35.087628Z"
    }
   },
   "outputs": [],
   "source": [
    "# plot two numerics and a categoric\n",
    "def num2_cat_plot(df, num_col1, num_col2, cat_col):\n",
    "    sns.scatterplot(data = df, x = num_col1,y = num_col2, hue = cat_col )\n",
    "    plt.show()"
   ]
  },
  {
   "cell_type": "code",
   "execution_count": 6,
   "metadata": {
    "execution": {
     "iopub.execute_input": "2022-11-10T18:12:35.099131Z",
     "iopub.status.busy": "2022-11-10T18:12:35.098223Z",
     "iopub.status.idle": "2022-11-10T18:12:35.107706Z",
     "shell.execute_reply": "2022-11-10T18:12:35.106779Z",
     "shell.execute_reply.started": "2022-11-10T18:12:35.099084Z"
    }
   },
   "outputs": [],
   "source": [
    "# plot a numeric and two categorics\n",
    "def num_cat2_plot(df, num_col, cat_col1, cat_col2):\n",
    "    sns.stripplot(x=df[cat_col1], y=df[num_col], hue = df[cat_col2], data=df)\n",
    "    plt.xlabel(cat_col1)\n",
    "    plt.ylabel(num_col)\n",
    "    plt.show()"
   ]
  },
  {
   "cell_type": "code",
   "execution_count": 7,
   "metadata": {
    "execution": {
     "iopub.execute_input": "2022-11-10T18:12:35.110049Z",
     "iopub.status.busy": "2022-11-10T18:12:35.109343Z",
     "iopub.status.idle": "2022-11-10T18:12:35.118970Z",
     "shell.execute_reply": "2022-11-10T18:12:35.117912Z",
     "shell.execute_reply.started": "2022-11-10T18:12:35.110015Z"
    }
   },
   "outputs": [],
   "source": [
    "# check  null values of a column\n",
    "def null_check(df, col):\n",
    "    nul = df[col].isnull().sum()\n",
    "    return nul"
   ]
  },
  {
   "cell_type": "code",
   "execution_count": 8,
   "metadata": {
    "execution": {
     "iopub.execute_input": "2022-11-10T18:12:35.121426Z",
     "iopub.status.busy": "2022-11-10T18:12:35.120490Z",
     "iopub.status.idle": "2022-11-10T18:12:35.132004Z",
     "shell.execute_reply": "2022-11-10T18:12:35.130990Z",
     "shell.execute_reply.started": "2022-11-10T18:12:35.121389Z"
    }
   },
   "outputs": [],
   "source": [
    "# check cardinality of a column\n",
    "def cardinality(df, cat):\n",
    "    for i in cat:\n",
    "        x = df[i].nunique()\n",
    "        if x*100/len(df) >= 70:\n",
    "            print(i,\" : High Cardinality : \", x)\n",
    "        else:\n",
    "            print(i,\" : Low Cardinality : \", x)"
   ]
  },
  {
   "cell_type": "code",
   "execution_count": 9,
   "metadata": {
    "execution": {
     "iopub.execute_input": "2022-11-10T18:12:35.134710Z",
     "iopub.status.busy": "2022-11-10T18:12:35.133896Z",
     "iopub.status.idle": "2022-11-10T18:12:35.166432Z",
     "shell.execute_reply": "2022-11-10T18:12:35.165333Z",
     "shell.execute_reply.started": "2022-11-10T18:12:35.134656Z"
    }
   },
   "outputs": [],
   "source": [
    "train1 = pd.read_csv(\"../input/titanic/train.csv\")"
   ]
  },
  {
   "cell_type": "code",
   "execution_count": 10,
   "metadata": {
    "execution": {
     "iopub.execute_input": "2022-11-10T18:12:35.168774Z",
     "iopub.status.busy": "2022-11-10T18:12:35.168135Z",
     "iopub.status.idle": "2022-11-10T18:12:35.195992Z",
     "shell.execute_reply": "2022-11-10T18:12:35.194881Z",
     "shell.execute_reply.started": "2022-11-10T18:12:35.168739Z"
    }
   },
   "outputs": [
    {
     "data": {
      "text/html": [
       "<div>\n",
       "<style scoped>\n",
       "    .dataframe tbody tr th:only-of-type {\n",
       "        vertical-align: middle;\n",
       "    }\n",
       "\n",
       "    .dataframe tbody tr th {\n",
       "        vertical-align: top;\n",
       "    }\n",
       "\n",
       "    .dataframe thead th {\n",
       "        text-align: right;\n",
       "    }\n",
       "</style>\n",
       "<table border=\"1\" class=\"dataframe\">\n",
       "  <thead>\n",
       "    <tr style=\"text-align: right;\">\n",
       "      <th></th>\n",
       "      <th>PassengerId</th>\n",
       "      <th>Survived</th>\n",
       "      <th>Pclass</th>\n",
       "      <th>Name</th>\n",
       "      <th>Sex</th>\n",
       "      <th>Age</th>\n",
       "      <th>SibSp</th>\n",
       "      <th>Parch</th>\n",
       "      <th>Ticket</th>\n",
       "      <th>Fare</th>\n",
       "      <th>Cabin</th>\n",
       "      <th>Embarked</th>\n",
       "    </tr>\n",
       "  </thead>\n",
       "  <tbody>\n",
       "    <tr>\n",
       "      <th>0</th>\n",
       "      <td>1</td>\n",
       "      <td>0</td>\n",
       "      <td>3</td>\n",
       "      <td>Braund, Mr. Owen Harris</td>\n",
       "      <td>male</td>\n",
       "      <td>22.0</td>\n",
       "      <td>1</td>\n",
       "      <td>0</td>\n",
       "      <td>A/5 21171</td>\n",
       "      <td>7.2500</td>\n",
       "      <td>NaN</td>\n",
       "      <td>S</td>\n",
       "    </tr>\n",
       "    <tr>\n",
       "      <th>1</th>\n",
       "      <td>2</td>\n",
       "      <td>1</td>\n",
       "      <td>1</td>\n",
       "      <td>Cumings, Mrs. John Bradley (Florence Briggs Th...</td>\n",
       "      <td>female</td>\n",
       "      <td>38.0</td>\n",
       "      <td>1</td>\n",
       "      <td>0</td>\n",
       "      <td>PC 17599</td>\n",
       "      <td>71.2833</td>\n",
       "      <td>C85</td>\n",
       "      <td>C</td>\n",
       "    </tr>\n",
       "    <tr>\n",
       "      <th>2</th>\n",
       "      <td>3</td>\n",
       "      <td>1</td>\n",
       "      <td>3</td>\n",
       "      <td>Heikkinen, Miss. Laina</td>\n",
       "      <td>female</td>\n",
       "      <td>26.0</td>\n",
       "      <td>0</td>\n",
       "      <td>0</td>\n",
       "      <td>STON/O2. 3101282</td>\n",
       "      <td>7.9250</td>\n",
       "      <td>NaN</td>\n",
       "      <td>S</td>\n",
       "    </tr>\n",
       "    <tr>\n",
       "      <th>3</th>\n",
       "      <td>4</td>\n",
       "      <td>1</td>\n",
       "      <td>1</td>\n",
       "      <td>Futrelle, Mrs. Jacques Heath (Lily May Peel)</td>\n",
       "      <td>female</td>\n",
       "      <td>35.0</td>\n",
       "      <td>1</td>\n",
       "      <td>0</td>\n",
       "      <td>113803</td>\n",
       "      <td>53.1000</td>\n",
       "      <td>C123</td>\n",
       "      <td>S</td>\n",
       "    </tr>\n",
       "    <tr>\n",
       "      <th>4</th>\n",
       "      <td>5</td>\n",
       "      <td>0</td>\n",
       "      <td>3</td>\n",
       "      <td>Allen, Mr. William Henry</td>\n",
       "      <td>male</td>\n",
       "      <td>35.0</td>\n",
       "      <td>0</td>\n",
       "      <td>0</td>\n",
       "      <td>373450</td>\n",
       "      <td>8.0500</td>\n",
       "      <td>NaN</td>\n",
       "      <td>S</td>\n",
       "    </tr>\n",
       "  </tbody>\n",
       "</table>\n",
       "</div>"
      ],
      "text/plain": [
       "   PassengerId  Survived  Pclass  \\\n",
       "0            1         0       3   \n",
       "1            2         1       1   \n",
       "2            3         1       3   \n",
       "3            4         1       1   \n",
       "4            5         0       3   \n",
       "\n",
       "                                                Name     Sex   Age  SibSp  \\\n",
       "0                            Braund, Mr. Owen Harris    male  22.0      1   \n",
       "1  Cumings, Mrs. John Bradley (Florence Briggs Th...  female  38.0      1   \n",
       "2                             Heikkinen, Miss. Laina  female  26.0      0   \n",
       "3       Futrelle, Mrs. Jacques Heath (Lily May Peel)  female  35.0      1   \n",
       "4                           Allen, Mr. William Henry    male  35.0      0   \n",
       "\n",
       "   Parch            Ticket     Fare Cabin Embarked  \n",
       "0      0         A/5 21171   7.2500   NaN        S  \n",
       "1      0          PC 17599  71.2833   C85        C  \n",
       "2      0  STON/O2. 3101282   7.9250   NaN        S  \n",
       "3      0            113803  53.1000  C123        S  \n",
       "4      0            373450   8.0500   NaN        S  "
      ]
     },
     "execution_count": 10,
     "metadata": {},
     "output_type": "execute_result"
    }
   ],
   "source": [
    "train1.head()"
   ]
  },
  {
   "cell_type": "code",
   "execution_count": 11,
   "metadata": {
    "execution": {
     "iopub.execute_input": "2022-11-10T18:12:35.197935Z",
     "iopub.status.busy": "2022-11-10T18:12:35.197533Z",
     "iopub.status.idle": "2022-11-10T18:12:35.214936Z",
     "shell.execute_reply": "2022-11-10T18:12:35.213927Z",
     "shell.execute_reply.started": "2022-11-10T18:12:35.197896Z"
    }
   },
   "outputs": [
    {
     "data": {
      "text/html": [
       "<div>\n",
       "<style scoped>\n",
       "    .dataframe tbody tr th:only-of-type {\n",
       "        vertical-align: middle;\n",
       "    }\n",
       "\n",
       "    .dataframe tbody tr th {\n",
       "        vertical-align: top;\n",
       "    }\n",
       "\n",
       "    .dataframe thead th {\n",
       "        text-align: right;\n",
       "    }\n",
       "</style>\n",
       "<table border=\"1\" class=\"dataframe\">\n",
       "  <thead>\n",
       "    <tr style=\"text-align: right;\">\n",
       "      <th></th>\n",
       "      <th>PassengerId</th>\n",
       "      <th>Survived</th>\n",
       "      <th>Pclass</th>\n",
       "      <th>Name</th>\n",
       "      <th>Sex</th>\n",
       "      <th>Age</th>\n",
       "      <th>SibSp</th>\n",
       "      <th>Parch</th>\n",
       "      <th>Ticket</th>\n",
       "      <th>Fare</th>\n",
       "      <th>Cabin</th>\n",
       "      <th>Embarked</th>\n",
       "    </tr>\n",
       "  </thead>\n",
       "  <tbody>\n",
       "    <tr>\n",
       "      <th>886</th>\n",
       "      <td>887</td>\n",
       "      <td>0</td>\n",
       "      <td>2</td>\n",
       "      <td>Montvila, Rev. Juozas</td>\n",
       "      <td>male</td>\n",
       "      <td>27.0</td>\n",
       "      <td>0</td>\n",
       "      <td>0</td>\n",
       "      <td>211536</td>\n",
       "      <td>13.00</td>\n",
       "      <td>NaN</td>\n",
       "      <td>S</td>\n",
       "    </tr>\n",
       "    <tr>\n",
       "      <th>887</th>\n",
       "      <td>888</td>\n",
       "      <td>1</td>\n",
       "      <td>1</td>\n",
       "      <td>Graham, Miss. Margaret Edith</td>\n",
       "      <td>female</td>\n",
       "      <td>19.0</td>\n",
       "      <td>0</td>\n",
       "      <td>0</td>\n",
       "      <td>112053</td>\n",
       "      <td>30.00</td>\n",
       "      <td>B42</td>\n",
       "      <td>S</td>\n",
       "    </tr>\n",
       "    <tr>\n",
       "      <th>888</th>\n",
       "      <td>889</td>\n",
       "      <td>0</td>\n",
       "      <td>3</td>\n",
       "      <td>Johnston, Miss. Catherine Helen \"Carrie\"</td>\n",
       "      <td>female</td>\n",
       "      <td>NaN</td>\n",
       "      <td>1</td>\n",
       "      <td>2</td>\n",
       "      <td>W./C. 6607</td>\n",
       "      <td>23.45</td>\n",
       "      <td>NaN</td>\n",
       "      <td>S</td>\n",
       "    </tr>\n",
       "    <tr>\n",
       "      <th>889</th>\n",
       "      <td>890</td>\n",
       "      <td>1</td>\n",
       "      <td>1</td>\n",
       "      <td>Behr, Mr. Karl Howell</td>\n",
       "      <td>male</td>\n",
       "      <td>26.0</td>\n",
       "      <td>0</td>\n",
       "      <td>0</td>\n",
       "      <td>111369</td>\n",
       "      <td>30.00</td>\n",
       "      <td>C148</td>\n",
       "      <td>C</td>\n",
       "    </tr>\n",
       "    <tr>\n",
       "      <th>890</th>\n",
       "      <td>891</td>\n",
       "      <td>0</td>\n",
       "      <td>3</td>\n",
       "      <td>Dooley, Mr. Patrick</td>\n",
       "      <td>male</td>\n",
       "      <td>32.0</td>\n",
       "      <td>0</td>\n",
       "      <td>0</td>\n",
       "      <td>370376</td>\n",
       "      <td>7.75</td>\n",
       "      <td>NaN</td>\n",
       "      <td>Q</td>\n",
       "    </tr>\n",
       "  </tbody>\n",
       "</table>\n",
       "</div>"
      ],
      "text/plain": [
       "     PassengerId  Survived  Pclass                                      Name  \\\n",
       "886          887         0       2                     Montvila, Rev. Juozas   \n",
       "887          888         1       1              Graham, Miss. Margaret Edith   \n",
       "888          889         0       3  Johnston, Miss. Catherine Helen \"Carrie\"   \n",
       "889          890         1       1                     Behr, Mr. Karl Howell   \n",
       "890          891         0       3                       Dooley, Mr. Patrick   \n",
       "\n",
       "        Sex   Age  SibSp  Parch      Ticket   Fare Cabin Embarked  \n",
       "886    male  27.0      0      0      211536  13.00   NaN        S  \n",
       "887  female  19.0      0      0      112053  30.00   B42        S  \n",
       "888  female   NaN      1      2  W./C. 6607  23.45   NaN        S  \n",
       "889    male  26.0      0      0      111369  30.00  C148        C  \n",
       "890    male  32.0      0      0      370376   7.75   NaN        Q  "
      ]
     },
     "execution_count": 11,
     "metadata": {},
     "output_type": "execute_result"
    }
   ],
   "source": [
    "train1.tail()"
   ]
  },
  {
   "cell_type": "code",
   "execution_count": 12,
   "metadata": {
    "execution": {
     "iopub.execute_input": "2022-11-10T18:12:35.217079Z",
     "iopub.status.busy": "2022-11-10T18:12:35.216432Z",
     "iopub.status.idle": "2022-11-10T18:12:35.229228Z",
     "shell.execute_reply": "2022-11-10T18:12:35.228124Z",
     "shell.execute_reply.started": "2022-11-10T18:12:35.217042Z"
    }
   },
   "outputs": [
    {
     "data": {
      "text/plain": [
       "(891, 12)"
      ]
     },
     "execution_count": 12,
     "metadata": {},
     "output_type": "execute_result"
    }
   ],
   "source": [
    "train1.shape"
   ]
  },
  {
   "cell_type": "code",
   "execution_count": 13,
   "metadata": {
    "execution": {
     "iopub.execute_input": "2022-11-10T18:12:35.236135Z",
     "iopub.status.busy": "2022-11-10T18:12:35.235491Z",
     "iopub.status.idle": "2022-11-10T18:12:35.258109Z",
     "shell.execute_reply": "2022-11-10T18:12:35.256957Z",
     "shell.execute_reply.started": "2022-11-10T18:12:35.236097Z"
    }
   },
   "outputs": [
    {
     "data": {
      "text/plain": [
       "0"
      ]
     },
     "execution_count": 13,
     "metadata": {},
     "output_type": "execute_result"
    }
   ],
   "source": [
    "# total no. of duplicates\n",
    "train1.duplicated().sum()"
   ]
  },
  {
   "cell_type": "code",
   "execution_count": 14,
   "metadata": {
    "execution": {
     "iopub.execute_input": "2022-11-10T18:12:35.261111Z",
     "iopub.status.busy": "2022-11-10T18:12:35.259842Z",
     "iopub.status.idle": "2022-11-10T18:12:35.270051Z",
     "shell.execute_reply": "2022-11-10T18:12:35.269025Z",
     "shell.execute_reply.started": "2022-11-10T18:12:35.261061Z"
    }
   },
   "outputs": [
    {
     "data": {
      "text/plain": [
       "PassengerId      int64\n",
       "Survived         int64\n",
       "Pclass           int64\n",
       "Name            object\n",
       "Sex             object\n",
       "Age            float64\n",
       "SibSp            int64\n",
       "Parch            int64\n",
       "Ticket          object\n",
       "Fare           float64\n",
       "Cabin           object\n",
       "Embarked        object\n",
       "dtype: object"
      ]
     },
     "execution_count": 14,
     "metadata": {},
     "output_type": "execute_result"
    }
   ],
   "source": [
    "# to check datatype of each column\n",
    "train1.dtypes"
   ]
  },
  {
   "cell_type": "code",
   "execution_count": 15,
   "metadata": {
    "execution": {
     "iopub.execute_input": "2022-11-10T18:12:35.272074Z",
     "iopub.status.busy": "2022-11-10T18:12:35.271388Z",
     "iopub.status.idle": "2022-11-10T18:12:35.289879Z",
     "shell.execute_reply": "2022-11-10T18:12:35.288188Z",
     "shell.execute_reply.started": "2022-11-10T18:12:35.272032Z"
    }
   },
   "outputs": [
    {
     "data": {
      "text/plain": [
       "['PassengerId',\n",
       " 'Survived',\n",
       " 'Pclass',\n",
       " 'Name',\n",
       " 'Sex',\n",
       " 'Ticket',\n",
       " 'Cabin',\n",
       " 'Embarked']"
      ]
     },
     "execution_count": 15,
     "metadata": {},
     "output_type": "execute_result"
    }
   ],
   "source": [
    "# categorical Columns\n",
    "cat = ['PassengerId', 'Survived', 'Pclass']\n",
    "obj = train1.select_dtypes(include=['object']).columns\n",
    "for i in obj:\n",
    "    cat.append(i)\n",
    "    \n",
    "cat"
   ]
  },
  {
   "cell_type": "code",
   "execution_count": 16,
   "metadata": {
    "execution": {
     "iopub.execute_input": "2022-11-10T18:12:35.292361Z",
     "iopub.status.busy": "2022-11-10T18:12:35.291271Z",
     "iopub.status.idle": "2022-11-10T18:12:35.310851Z",
     "shell.execute_reply": "2022-11-10T18:12:35.309834Z",
     "shell.execute_reply.started": "2022-11-10T18:12:35.292316Z"
    }
   },
   "outputs": [],
   "source": [
    "# converting datatype\n",
    "for i in cat:\n",
    "    train1[i] = train1[i].astype('category')"
   ]
  },
  {
   "cell_type": "code",
   "execution_count": 17,
   "metadata": {
    "execution": {
     "iopub.execute_input": "2022-11-10T18:12:35.313678Z",
     "iopub.status.busy": "2022-11-10T18:12:35.312804Z",
     "iopub.status.idle": "2022-11-10T18:12:35.323915Z",
     "shell.execute_reply": "2022-11-10T18:12:35.322724Z",
     "shell.execute_reply.started": "2022-11-10T18:12:35.313626Z"
    }
   },
   "outputs": [
    {
     "data": {
      "text/plain": [
       "PassengerId    category\n",
       "Survived       category\n",
       "Pclass         category\n",
       "Name           category\n",
       "Sex            category\n",
       "Age             float64\n",
       "SibSp             int64\n",
       "Parch             int64\n",
       "Ticket         category\n",
       "Fare            float64\n",
       "Cabin          category\n",
       "Embarked       category\n",
       "dtype: object"
      ]
     },
     "execution_count": 17,
     "metadata": {},
     "output_type": "execute_result"
    }
   ],
   "source": [
    "train1.dtypes"
   ]
  },
  {
   "cell_type": "code",
   "execution_count": 18,
   "metadata": {
    "execution": {
     "iopub.execute_input": "2022-11-10T18:12:35.327254Z",
     "iopub.status.busy": "2022-11-10T18:12:35.326143Z",
     "iopub.status.idle": "2022-11-10T18:12:35.340762Z",
     "shell.execute_reply": "2022-11-10T18:12:35.339358Z",
     "shell.execute_reply.started": "2022-11-10T18:12:35.327205Z"
    }
   },
   "outputs": [
    {
     "data": {
      "text/plain": [
       "PassengerId      0\n",
       "Survived         0\n",
       "Pclass           0\n",
       "Name             0\n",
       "Sex              0\n",
       "Age            177\n",
       "SibSp            0\n",
       "Parch            0\n",
       "Ticket           0\n",
       "Fare             0\n",
       "Cabin          687\n",
       "Embarked         2\n",
       "dtype: int64"
      ]
     },
     "execution_count": 18,
     "metadata": {},
     "output_type": "execute_result"
    }
   ],
   "source": [
    "# checking null values\n",
    "train1.isnull().sum()"
   ]
  },
  {
   "cell_type": "code",
   "execution_count": 19,
   "metadata": {
    "execution": {
     "iopub.execute_input": "2022-11-10T18:12:35.344054Z",
     "iopub.status.busy": "2022-11-10T18:12:35.343056Z",
     "iopub.status.idle": "2022-11-10T18:12:35.359329Z",
     "shell.execute_reply": "2022-11-10T18:12:35.357786Z",
     "shell.execute_reply.started": "2022-11-10T18:12:35.343998Z"
    }
   },
   "outputs": [
    {
     "data": {
      "text/plain": [
       "PassengerId     0.000000\n",
       "Survived        0.000000\n",
       "Pclass          0.000000\n",
       "Name            0.000000\n",
       "Sex             0.000000\n",
       "Age            19.865320\n",
       "SibSp           0.000000\n",
       "Parch           0.000000\n",
       "Ticket          0.000000\n",
       "Fare            0.000000\n",
       "Cabin          77.104377\n",
       "Embarked        0.224467\n",
       "dtype: float64"
      ]
     },
     "execution_count": 19,
     "metadata": {},
     "output_type": "execute_result"
    }
   ],
   "source": [
    "# in percentages\n",
    "train1.isnull().sum()*100/len(train1)"
   ]
  },
  {
   "cell_type": "code",
   "execution_count": 20,
   "metadata": {
    "execution": {
     "iopub.execute_input": "2022-11-10T18:12:35.365788Z",
     "iopub.status.busy": "2022-11-10T18:12:35.364611Z",
     "iopub.status.idle": "2022-11-10T18:12:35.375989Z",
     "shell.execute_reply": "2022-11-10T18:12:35.374768Z",
     "shell.execute_reply.started": "2022-11-10T18:12:35.365731Z"
    }
   },
   "outputs": [],
   "source": [
    "# dropping columns - nearly 50% missing values\n",
    "train1.drop(['Cabin'] , axis = 1 , inplace = True)"
   ]
  },
  {
   "cell_type": "code",
   "execution_count": 21,
   "metadata": {
    "execution": {
     "iopub.execute_input": "2022-11-10T18:12:35.379500Z",
     "iopub.status.busy": "2022-11-10T18:12:35.378059Z",
     "iopub.status.idle": "2022-11-10T18:12:35.388806Z",
     "shell.execute_reply": "2022-11-10T18:12:35.387237Z",
     "shell.execute_reply.started": "2022-11-10T18:12:35.379436Z"
    }
   },
   "outputs": [
    {
     "data": {
      "text/plain": [
       "(891, 11)"
      ]
     },
     "execution_count": 21,
     "metadata": {},
     "output_type": "execute_result"
    }
   ],
   "source": [
    "train1.shape"
   ]
  },
  {
   "cell_type": "code",
   "execution_count": 22,
   "metadata": {
    "execution": {
     "iopub.execute_input": "2022-11-10T18:12:35.391909Z",
     "iopub.status.busy": "2022-11-10T18:12:35.391484Z",
     "iopub.status.idle": "2022-11-10T18:12:35.402499Z",
     "shell.execute_reply": "2022-11-10T18:12:35.401426Z",
     "shell.execute_reply.started": "2022-11-10T18:12:35.391846Z"
    }
   },
   "outputs": [
    {
     "data": {
      "text/plain": [
       "['PassengerId', 'Survived', 'Pclass', 'Name', 'Sex', 'Ticket', 'Embarked']"
      ]
     },
     "execution_count": 22,
     "metadata": {},
     "output_type": "execute_result"
    }
   ],
   "source": [
    "cat.remove('Cabin')\n",
    "cat"
   ]
  },
  {
   "cell_type": "code",
   "execution_count": 23,
   "metadata": {
    "execution": {
     "iopub.execute_input": "2022-11-10T18:12:35.405009Z",
     "iopub.status.busy": "2022-11-10T18:12:35.404239Z",
     "iopub.status.idle": "2022-11-10T18:12:35.440761Z",
     "shell.execute_reply": "2022-11-10T18:12:35.439443Z",
     "shell.execute_reply.started": "2022-11-10T18:12:35.404957Z"
    }
   },
   "outputs": [
    {
     "data": {
      "text/html": [
       "<div>\n",
       "<style scoped>\n",
       "    .dataframe tbody tr th:only-of-type {\n",
       "        vertical-align: middle;\n",
       "    }\n",
       "\n",
       "    .dataframe tbody tr th {\n",
       "        vertical-align: top;\n",
       "    }\n",
       "\n",
       "    .dataframe thead th {\n",
       "        text-align: right;\n",
       "    }\n",
       "</style>\n",
       "<table border=\"1\" class=\"dataframe\">\n",
       "  <thead>\n",
       "    <tr style=\"text-align: right;\">\n",
       "      <th></th>\n",
       "      <th>PassengerId</th>\n",
       "      <th>Survived</th>\n",
       "      <th>Pclass</th>\n",
       "      <th>Name</th>\n",
       "      <th>Sex</th>\n",
       "      <th>Ticket</th>\n",
       "      <th>Embarked</th>\n",
       "    </tr>\n",
       "  </thead>\n",
       "  <tbody>\n",
       "    <tr>\n",
       "      <th>count</th>\n",
       "      <td>891</td>\n",
       "      <td>891</td>\n",
       "      <td>891</td>\n",
       "      <td>891</td>\n",
       "      <td>891</td>\n",
       "      <td>891</td>\n",
       "      <td>889</td>\n",
       "    </tr>\n",
       "    <tr>\n",
       "      <th>unique</th>\n",
       "      <td>891</td>\n",
       "      <td>2</td>\n",
       "      <td>3</td>\n",
       "      <td>891</td>\n",
       "      <td>2</td>\n",
       "      <td>681</td>\n",
       "      <td>3</td>\n",
       "    </tr>\n",
       "    <tr>\n",
       "      <th>top</th>\n",
       "      <td>1</td>\n",
       "      <td>0</td>\n",
       "      <td>3</td>\n",
       "      <td>Abbing, Mr. Anthony</td>\n",
       "      <td>male</td>\n",
       "      <td>1601</td>\n",
       "      <td>S</td>\n",
       "    </tr>\n",
       "    <tr>\n",
       "      <th>freq</th>\n",
       "      <td>1</td>\n",
       "      <td>549</td>\n",
       "      <td>491</td>\n",
       "      <td>1</td>\n",
       "      <td>577</td>\n",
       "      <td>7</td>\n",
       "      <td>644</td>\n",
       "    </tr>\n",
       "  </tbody>\n",
       "</table>\n",
       "</div>"
      ],
      "text/plain": [
       "        PassengerId  Survived  Pclass                 Name   Sex Ticket  \\\n",
       "count           891       891     891                  891   891    891   \n",
       "unique          891         2       3                  891     2    681   \n",
       "top               1         0       3  Abbing, Mr. Anthony  male   1601   \n",
       "freq              1       549     491                    1   577      7   \n",
       "\n",
       "       Embarked  \n",
       "count       889  \n",
       "unique        3  \n",
       "top           S  \n",
       "freq        644  "
      ]
     },
     "execution_count": 23,
     "metadata": {},
     "output_type": "execute_result"
    }
   ],
   "source": [
    "train1[cat].describe()"
   ]
  },
  {
   "cell_type": "code",
   "execution_count": 24,
   "metadata": {
    "execution": {
     "iopub.execute_input": "2022-11-10T18:12:35.442949Z",
     "iopub.status.busy": "2022-11-10T18:12:35.442289Z",
     "iopub.status.idle": "2022-11-10T18:12:35.476114Z",
     "shell.execute_reply": "2022-11-10T18:12:35.474541Z",
     "shell.execute_reply.started": "2022-11-10T18:12:35.442903Z"
    }
   },
   "outputs": [
    {
     "data": {
      "text/html": [
       "<div>\n",
       "<style scoped>\n",
       "    .dataframe tbody tr th:only-of-type {\n",
       "        vertical-align: middle;\n",
       "    }\n",
       "\n",
       "    .dataframe tbody tr th {\n",
       "        vertical-align: top;\n",
       "    }\n",
       "\n",
       "    .dataframe thead th {\n",
       "        text-align: right;\n",
       "    }\n",
       "</style>\n",
       "<table border=\"1\" class=\"dataframe\">\n",
       "  <thead>\n",
       "    <tr style=\"text-align: right;\">\n",
       "      <th></th>\n",
       "      <th>Age</th>\n",
       "      <th>SibSp</th>\n",
       "      <th>Parch</th>\n",
       "      <th>Fare</th>\n",
       "    </tr>\n",
       "  </thead>\n",
       "  <tbody>\n",
       "    <tr>\n",
       "      <th>count</th>\n",
       "      <td>714.00</td>\n",
       "      <td>891.00</td>\n",
       "      <td>891.00</td>\n",
       "      <td>891.00</td>\n",
       "    </tr>\n",
       "    <tr>\n",
       "      <th>mean</th>\n",
       "      <td>29.70</td>\n",
       "      <td>0.52</td>\n",
       "      <td>0.38</td>\n",
       "      <td>32.20</td>\n",
       "    </tr>\n",
       "    <tr>\n",
       "      <th>std</th>\n",
       "      <td>14.53</td>\n",
       "      <td>1.10</td>\n",
       "      <td>0.81</td>\n",
       "      <td>49.69</td>\n",
       "    </tr>\n",
       "    <tr>\n",
       "      <th>min</th>\n",
       "      <td>0.42</td>\n",
       "      <td>0.00</td>\n",
       "      <td>0.00</td>\n",
       "      <td>0.00</td>\n",
       "    </tr>\n",
       "    <tr>\n",
       "      <th>25%</th>\n",
       "      <td>20.12</td>\n",
       "      <td>0.00</td>\n",
       "      <td>0.00</td>\n",
       "      <td>7.91</td>\n",
       "    </tr>\n",
       "    <tr>\n",
       "      <th>50%</th>\n",
       "      <td>28.00</td>\n",
       "      <td>0.00</td>\n",
       "      <td>0.00</td>\n",
       "      <td>14.45</td>\n",
       "    </tr>\n",
       "    <tr>\n",
       "      <th>75%</th>\n",
       "      <td>38.00</td>\n",
       "      <td>1.00</td>\n",
       "      <td>0.00</td>\n",
       "      <td>31.00</td>\n",
       "    </tr>\n",
       "    <tr>\n",
       "      <th>max</th>\n",
       "      <td>80.00</td>\n",
       "      <td>8.00</td>\n",
       "      <td>6.00</td>\n",
       "      <td>512.33</td>\n",
       "    </tr>\n",
       "  </tbody>\n",
       "</table>\n",
       "</div>"
      ],
      "text/plain": [
       "          Age   SibSp   Parch    Fare\n",
       "count  714.00  891.00  891.00  891.00\n",
       "mean    29.70    0.52    0.38   32.20\n",
       "std     14.53    1.10    0.81   49.69\n",
       "min      0.42    0.00    0.00    0.00\n",
       "25%     20.12    0.00    0.00    7.91\n",
       "50%     28.00    0.00    0.00   14.45\n",
       "75%     38.00    1.00    0.00   31.00\n",
       "max     80.00    8.00    6.00  512.33"
      ]
     },
     "execution_count": 24,
     "metadata": {},
     "output_type": "execute_result"
    }
   ],
   "source": [
    "train1.describe().round(2)"
   ]
  },
  {
   "cell_type": "code",
   "execution_count": 25,
   "metadata": {
    "execution": {
     "iopub.execute_input": "2022-11-10T18:12:35.479084Z",
     "iopub.status.busy": "2022-11-10T18:12:35.477532Z",
     "iopub.status.idle": "2022-11-10T18:12:35.499075Z",
     "shell.execute_reply": "2022-11-10T18:12:35.497742Z",
     "shell.execute_reply.started": "2022-11-10T18:12:35.479029Z"
    }
   },
   "outputs": [
    {
     "data": {
      "text/html": [
       "<div>\n",
       "<style scoped>\n",
       "    .dataframe tbody tr th:only-of-type {\n",
       "        vertical-align: middle;\n",
       "    }\n",
       "\n",
       "    .dataframe tbody tr th {\n",
       "        vertical-align: top;\n",
       "    }\n",
       "\n",
       "    .dataframe thead th {\n",
       "        text-align: right;\n",
       "    }\n",
       "</style>\n",
       "<table border=\"1\" class=\"dataframe\">\n",
       "  <thead>\n",
       "    <tr style=\"text-align: right;\">\n",
       "      <th></th>\n",
       "      <th>PassengerId</th>\n",
       "      <th>Survived</th>\n",
       "      <th>Pclass</th>\n",
       "      <th>Name</th>\n",
       "      <th>Sex</th>\n",
       "      <th>Age</th>\n",
       "      <th>SibSp</th>\n",
       "      <th>Parch</th>\n",
       "      <th>Ticket</th>\n",
       "      <th>Fare</th>\n",
       "      <th>Embarked</th>\n",
       "    </tr>\n",
       "  </thead>\n",
       "  <tbody>\n",
       "    <tr>\n",
       "      <th>886</th>\n",
       "      <td>887</td>\n",
       "      <td>0</td>\n",
       "      <td>2</td>\n",
       "      <td>Montvila, Rev. Juozas</td>\n",
       "      <td>male</td>\n",
       "      <td>27.0</td>\n",
       "      <td>0</td>\n",
       "      <td>0</td>\n",
       "      <td>211536</td>\n",
       "      <td>13.00</td>\n",
       "      <td>S</td>\n",
       "    </tr>\n",
       "    <tr>\n",
       "      <th>887</th>\n",
       "      <td>888</td>\n",
       "      <td>1</td>\n",
       "      <td>1</td>\n",
       "      <td>Graham, Miss. Margaret Edith</td>\n",
       "      <td>female</td>\n",
       "      <td>19.0</td>\n",
       "      <td>0</td>\n",
       "      <td>0</td>\n",
       "      <td>112053</td>\n",
       "      <td>30.00</td>\n",
       "      <td>S</td>\n",
       "    </tr>\n",
       "    <tr>\n",
       "      <th>888</th>\n",
       "      <td>889</td>\n",
       "      <td>0</td>\n",
       "      <td>3</td>\n",
       "      <td>Johnston, Miss. Catherine Helen \"Carrie\"</td>\n",
       "      <td>female</td>\n",
       "      <td>NaN</td>\n",
       "      <td>1</td>\n",
       "      <td>2</td>\n",
       "      <td>W./C. 6607</td>\n",
       "      <td>23.45</td>\n",
       "      <td>S</td>\n",
       "    </tr>\n",
       "    <tr>\n",
       "      <th>889</th>\n",
       "      <td>890</td>\n",
       "      <td>1</td>\n",
       "      <td>1</td>\n",
       "      <td>Behr, Mr. Karl Howell</td>\n",
       "      <td>male</td>\n",
       "      <td>26.0</td>\n",
       "      <td>0</td>\n",
       "      <td>0</td>\n",
       "      <td>111369</td>\n",
       "      <td>30.00</td>\n",
       "      <td>C</td>\n",
       "    </tr>\n",
       "    <tr>\n",
       "      <th>890</th>\n",
       "      <td>891</td>\n",
       "      <td>0</td>\n",
       "      <td>3</td>\n",
       "      <td>Dooley, Mr. Patrick</td>\n",
       "      <td>male</td>\n",
       "      <td>32.0</td>\n",
       "      <td>0</td>\n",
       "      <td>0</td>\n",
       "      <td>370376</td>\n",
       "      <td>7.75</td>\n",
       "      <td>Q</td>\n",
       "    </tr>\n",
       "  </tbody>\n",
       "</table>\n",
       "</div>"
      ],
      "text/plain": [
       "    PassengerId Survived Pclass                                      Name  \\\n",
       "886         887        0      2                     Montvila, Rev. Juozas   \n",
       "887         888        1      1              Graham, Miss. Margaret Edith   \n",
       "888         889        0      3  Johnston, Miss. Catherine Helen \"Carrie\"   \n",
       "889         890        1      1                     Behr, Mr. Karl Howell   \n",
       "890         891        0      3                       Dooley, Mr. Patrick   \n",
       "\n",
       "        Sex   Age  SibSp  Parch      Ticket   Fare Embarked  \n",
       "886    male  27.0      0      0      211536  13.00        S  \n",
       "887  female  19.0      0      0      112053  30.00        S  \n",
       "888  female   NaN      1      2  W./C. 6607  23.45        S  \n",
       "889    male  26.0      0      0      111369  30.00        C  \n",
       "890    male  32.0      0      0      370376   7.75        Q  "
      ]
     },
     "execution_count": 25,
     "metadata": {},
     "output_type": "execute_result"
    }
   ],
   "source": [
    "train1.tail()"
   ]
  },
  {
   "cell_type": "code",
   "execution_count": 26,
   "metadata": {
    "execution": {
     "iopub.execute_input": "2022-11-10T18:12:35.501835Z",
     "iopub.status.busy": "2022-11-10T18:12:35.500511Z",
     "iopub.status.idle": "2022-11-10T18:12:35.514800Z",
     "shell.execute_reply": "2022-11-10T18:12:35.513587Z",
     "shell.execute_reply.started": "2022-11-10T18:12:35.501794Z"
    }
   },
   "outputs": [
    {
     "name": "stdout",
     "output_type": "stream",
     "text": [
      "PassengerId  : High Cardinality :  891\n",
      "Survived  : Low Cardinality :  2\n",
      "Pclass  : Low Cardinality :  3\n",
      "Name  : High Cardinality :  891\n",
      "Sex  : Low Cardinality :  2\n",
      "Ticket  : High Cardinality :  681\n",
      "Embarked  : Low Cardinality :  3\n"
     ]
    }
   ],
   "source": [
    "cardinality(train1, cat)"
   ]
  },
  {
   "cell_type": "code",
   "execution_count": 27,
   "metadata": {
    "execution": {
     "iopub.execute_input": "2022-11-10T18:12:35.517111Z",
     "iopub.status.busy": "2022-11-10T18:12:35.516628Z",
     "iopub.status.idle": "2022-11-10T18:12:35.924559Z",
     "shell.execute_reply": "2022-11-10T18:12:35.923074Z",
     "shell.execute_reply.started": "2022-11-10T18:12:35.517074Z"
    }
   },
   "outputs": [
    {
     "data": {
      "text/plain": [
       "<AxesSubplot:>"
      ]
     },
     "execution_count": 27,
     "metadata": {},
     "output_type": "execute_result"
    },
    {
     "data": {
      "image/png": "[encoded data removed]",
      "text/plain": [
       "<Figure size 720x576 with 2 Axes>"
      ]
     },
     "metadata": {},
     "output_type": "display_data"
    }
   ],
   "source": [
    "sns.heatmap(train1.corr(), cmap=\"Blues\", annot=True)"
   ]
  },
  {
   "cell_type": "code",
   "execution_count": 28,
   "metadata": {
    "execution": {
     "iopub.execute_input": "2022-11-10T18:12:35.927540Z",
     "iopub.status.busy": "2022-11-10T18:12:35.926507Z",
     "iopub.status.idle": "2022-11-10T18:12:36.175922Z",
     "shell.execute_reply": "2022-11-10T18:12:36.175089Z",
     "shell.execute_reply.started": "2022-11-10T18:12:35.927501Z"
    }
   },
   "outputs": [
    {
     "data": {
      "image/png": "[encoded data removed]",
      "text/plain": [
       "<Figure size 720x576 with 1 Axes>"
      ]
     },
     "metadata": {},
     "output_type": "display_data"
    }
   ],
   "source": [
    "num_cat_plot(train1, 'Age', 'Embarked')"
   ]
  },
  {
   "cell_type": "code",
   "execution_count": 30,
   "metadata": {
    "execution": {
     "iopub.execute_input": "2022-11-10T18:12:51.469282Z",
     "iopub.status.busy": "2022-11-10T18:12:51.468823Z",
     "iopub.status.idle": "2022-11-10T18:12:51.792681Z",
     "shell.execute_reply": "2022-11-10T18:12:51.791350Z",
     "shell.execute_reply.started": "2022-11-10T18:12:51.469247Z"
    }
   },
   "outputs": [
    {
     "data": {
      "image/png": "[encoded data removed]",
      "text/plain": [
       "<Figure size 720x576 with 1 Axes>"
      ]
     },
     "metadata": {},
     "output_type": "display_data"
    }
   ],
   "source": [
    "num_cat2_plot(train1, 'Age', 'Survived', 'Sex')"
   ]
  },
  {
   "cell_type": "code",
   "execution_count": null,
   "metadata": {},
   "outputs": [],
   "source": []
  },
  {
   "cell_type": "code",
   "execution_count": 31,
   "metadata": {
    "execution": {
     "iopub.execute_input": "2022-11-10T18:13:02.837426Z",
     "iopub.status.busy": "2022-11-10T18:13:02.836971Z",
     "iopub.status.idle": "2022-11-10T18:13:18.105468Z",
     "shell.execute_reply": "2022-11-10T18:13:18.104206Z",
     "shell.execute_reply.started": "2022-11-10T18:13:02.837394Z"
    }
   },
   "outputs": [],
   "source": [
    "train2 = pd.read_csv(\"../input/amex-default-prediction/train_data.csv\", nrows = 200000)"
   ]
  },
  {
   "cell_type": "code",
   "execution_count": 32,
   "metadata": {
    "execution": {
     "iopub.execute_input": "2022-11-10T18:13:18.109102Z",
     "iopub.status.busy": "2022-11-10T18:13:18.107963Z",
     "iopub.status.idle": "2022-11-10T18:13:18.136342Z",
     "shell.execute_reply": "2022-11-10T18:13:18.134881Z",
     "shell.execute_reply.started": "2022-11-10T18:13:18.109050Z"
    }
   },
   "outputs": [
    {
     "data": {
      "text/html": [
       "<div>\n",
       "<style scoped>\n",
       "    .dataframe tbody tr th:only-of-type {\n",
       "        vertical-align: middle;\n",
       "    }\n",
       "\n",
       "    .dataframe tbody tr th {\n",
       "        vertical-align: top;\n",
       "    }\n",
       "\n",
       "    .dataframe thead th {\n",
       "        text-align: right;\n",
       "    }\n",
       "</style>\n",
       "<table border=\"1\" class=\"dataframe\">\n",
       "  <thead>\n",
       "    <tr style=\"text-align: right;\">\n",
       "      <th></th>\n",
       "      <th>customer_ID</th>\n",
       "      <th>S_2</th>\n",
       "      <th>P_2</th>\n",
       "      <th>D_39</th>\n",
       "      <th>B_1</th>\n",
       "      <th>B_2</th>\n",
       "      <th>R_1</th>\n",
       "      <th>S_3</th>\n",
       "      <th>D_41</th>\n",
       "      <th>B_3</th>\n",
       "      <th>...</th>\n",
       "      <th>D_136</th>\n",
       "      <th>D_137</th>\n",
       "      <th>D_138</th>\n",
       "      <th>D_139</th>\n",
       "      <th>D_140</th>\n",
       "      <th>D_141</th>\n",
       "      <th>D_142</th>\n",
       "      <th>D_143</th>\n",
       "      <th>D_144</th>\n",
       "      <th>D_145</th>\n",
       "    </tr>\n",
       "  </thead>\n",
       "  <tbody>\n",
       "    <tr>\n",
       "      <th>0</th>\n",
       "      <td>0000099d6bd597052cdcda90ffabf56573fe9d7c79be5f...</td>\n",
       "      <td>2017-03-09</td>\n",
       "      <td>0.938469</td>\n",
       "      <td>0.001733</td>\n",
       "      <td>0.008724</td>\n",
       "      <td>1.006838</td>\n",
       "      <td>0.009228</td>\n",
       "      <td>0.124035</td>\n",
       "      <td>0.008771</td>\n",
       "      <td>0.004709</td>\n",
       "      <td>...</td>\n",
       "      <td>NaN</td>\n",
       "      <td>NaN</td>\n",
       "      <td>NaN</td>\n",
       "      <td>0.002427</td>\n",
       "      <td>0.003706</td>\n",
       "      <td>0.003818</td>\n",
       "      <td>NaN</td>\n",
       "      <td>0.000569</td>\n",
       "      <td>0.000610</td>\n",
       "      <td>0.002674</td>\n",
       "    </tr>\n",
       "    <tr>\n",
       "      <th>1</th>\n",
       "      <td>0000099d6bd597052cdcda90ffabf56573fe9d7c79be5f...</td>\n",
       "      <td>2017-04-07</td>\n",
       "      <td>0.936665</td>\n",
       "      <td>0.005775</td>\n",
       "      <td>0.004923</td>\n",
       "      <td>1.000653</td>\n",
       "      <td>0.006151</td>\n",
       "      <td>0.126750</td>\n",
       "      <td>0.000798</td>\n",
       "      <td>0.002714</td>\n",
       "      <td>...</td>\n",
       "      <td>NaN</td>\n",
       "      <td>NaN</td>\n",
       "      <td>NaN</td>\n",
       "      <td>0.003954</td>\n",
       "      <td>0.003167</td>\n",
       "      <td>0.005032</td>\n",
       "      <td>NaN</td>\n",
       "      <td>0.009576</td>\n",
       "      <td>0.005492</td>\n",
       "      <td>0.009217</td>\n",
       "    </tr>\n",
       "    <tr>\n",
       "      <th>2</th>\n",
       "      <td>0000099d6bd597052cdcda90ffabf56573fe9d7c79be5f...</td>\n",
       "      <td>2017-05-28</td>\n",
       "      <td>0.954180</td>\n",
       "      <td>0.091505</td>\n",
       "      <td>0.021655</td>\n",
       "      <td>1.009672</td>\n",
       "      <td>0.006815</td>\n",
       "      <td>0.123977</td>\n",
       "      <td>0.007598</td>\n",
       "      <td>0.009423</td>\n",
       "      <td>...</td>\n",
       "      <td>NaN</td>\n",
       "      <td>NaN</td>\n",
       "      <td>NaN</td>\n",
       "      <td>0.003269</td>\n",
       "      <td>0.007329</td>\n",
       "      <td>0.000427</td>\n",
       "      <td>NaN</td>\n",
       "      <td>0.003429</td>\n",
       "      <td>0.006986</td>\n",
       "      <td>0.002603</td>\n",
       "    </tr>\n",
       "    <tr>\n",
       "      <th>3</th>\n",
       "      <td>0000099d6bd597052cdcda90ffabf56573fe9d7c79be5f...</td>\n",
       "      <td>2017-06-13</td>\n",
       "      <td>0.960384</td>\n",
       "      <td>0.002455</td>\n",
       "      <td>0.013683</td>\n",
       "      <td>1.002700</td>\n",
       "      <td>0.001373</td>\n",
       "      <td>0.117169</td>\n",
       "      <td>0.000685</td>\n",
       "      <td>0.005531</td>\n",
       "      <td>...</td>\n",
       "      <td>NaN</td>\n",
       "      <td>NaN</td>\n",
       "      <td>NaN</td>\n",
       "      <td>0.006117</td>\n",
       "      <td>0.004516</td>\n",
       "      <td>0.003200</td>\n",
       "      <td>NaN</td>\n",
       "      <td>0.008419</td>\n",
       "      <td>0.006527</td>\n",
       "      <td>0.009600</td>\n",
       "    </tr>\n",
       "    <tr>\n",
       "      <th>4</th>\n",
       "      <td>0000099d6bd597052cdcda90ffabf56573fe9d7c79be5f...</td>\n",
       "      <td>2017-07-16</td>\n",
       "      <td>0.947248</td>\n",
       "      <td>0.002483</td>\n",
       "      <td>0.015193</td>\n",
       "      <td>1.000727</td>\n",
       "      <td>0.007605</td>\n",
       "      <td>0.117325</td>\n",
       "      <td>0.004653</td>\n",
       "      <td>0.009312</td>\n",
       "      <td>...</td>\n",
       "      <td>NaN</td>\n",
       "      <td>NaN</td>\n",
       "      <td>NaN</td>\n",
       "      <td>0.003671</td>\n",
       "      <td>0.004946</td>\n",
       "      <td>0.008889</td>\n",
       "      <td>NaN</td>\n",
       "      <td>0.001670</td>\n",
       "      <td>0.008126</td>\n",
       "      <td>0.009827</td>\n",
       "    </tr>\n",
       "  </tbody>\n",
       "</table>\n",
       "<p>5 rows × 190 columns</p>\n",
       "</div>"
      ],
      "text/plain": [
       "                                         customer_ID         S_2       P_2  \\\n",
       "0  0000099d6bd597052cdcda90ffabf56573fe9d7c79be5f...  2017-03-09  0.938469   \n",
       "1  0000099d6bd597052cdcda90ffabf56573fe9d7c79be5f...  2017-04-07  0.936665   \n",
       "2  0000099d6bd597052cdcda90ffabf56573fe9d7c79be5f...  2017-05-28  0.954180   \n",
       "3  0000099d6bd597052cdcda90ffabf56573fe9d7c79be5f...  2017-06-13  0.960384   \n",
       "4  0000099d6bd597052cdcda90ffabf56573fe9d7c79be5f...  2017-07-16  0.947248   \n",
       "\n",
       "       D_39       B_1       B_2       R_1       S_3      D_41       B_3  ...  \\\n",
       "0  0.001733  0.008724  1.006838  0.009228  0.124035  0.008771  0.004709  ...   \n",
       "1  0.005775  0.004923  1.000653  0.006151  0.126750  0.000798  0.002714  ...   \n",
       "2  0.091505  0.021655  1.009672  0.006815  0.123977  0.007598  0.009423  ...   \n",
       "3  0.002455  0.013683  1.002700  0.001373  0.117169  0.000685  0.005531  ...   \n",
       "4  0.002483  0.015193  1.000727  0.007605  0.117325  0.004653  0.009312  ...   \n",
       "\n",
       "   D_136  D_137  D_138     D_139     D_140     D_141  D_142     D_143  \\\n",
       "0    NaN    NaN    NaN  0.002427  0.003706  0.003818    NaN  0.000569   \n",
       "1    NaN    NaN    NaN  0.003954  0.003167  0.005032    NaN  0.009576   \n",
       "2    NaN    NaN    NaN  0.003269  0.007329  0.000427    NaN  0.003429   \n",
       "3    NaN    NaN    NaN  0.006117  0.004516  0.003200    NaN  0.008419   \n",
       "4    NaN    NaN    NaN  0.003671  0.004946  0.008889    NaN  0.001670   \n",
       "\n",
       "      D_144     D_145  \n",
       "0  0.000610  0.002674  \n",
       "1  0.005492  0.009217  \n",
       "2  0.006986  0.002603  \n",
       "3  0.006527  0.009600  \n",
       "4  0.008126  0.009827  \n",
       "\n",
       "[5 rows x 190 columns]"
      ]
     },
     "execution_count": 32,
     "metadata": {},
     "output_type": "execute_result"
    }
   ],
   "source": [
    "train2.head()"
   ]
  },
  {
   "cell_type": "code",
   "execution_count": 33,
   "metadata": {
    "execution": {
     "iopub.execute_input": "2022-11-10T18:13:18.138649Z",
     "iopub.status.busy": "2022-11-10T18:13:18.138304Z",
     "iopub.status.idle": "2022-11-10T18:13:22.270153Z",
     "shell.execute_reply": "2022-11-10T18:13:22.268930Z",
     "shell.execute_reply.started": "2022-11-10T18:13:18.138619Z"
    }
   },
   "outputs": [
    {
     "data": {
      "text/plain": [
       "0"
      ]
     },
     "execution_count": 33,
     "metadata": {},
     "output_type": "execute_result"
    }
   ],
   "source": [
    "train2.duplicated().sum()"
   ]
  },
  {
   "cell_type": "code",
   "execution_count": 34,
   "metadata": {
    "execution": {
     "iopub.execute_input": "2022-11-10T18:13:22.273012Z",
     "iopub.status.busy": "2022-11-10T18:13:22.272564Z",
     "iopub.status.idle": "2022-11-10T18:13:22.282160Z",
     "shell.execute_reply": "2022-11-10T18:13:22.280935Z",
     "shell.execute_reply.started": "2022-11-10T18:13:22.272975Z"
    }
   },
   "outputs": [
    {
     "data": {
      "text/plain": [
       "customer_ID     object\n",
       "S_2             object\n",
       "P_2            float64\n",
       "D_39           float64\n",
       "B_1            float64\n",
       "                ...   \n",
       "D_141          float64\n",
       "D_142          float64\n",
       "D_143          float64\n",
       "D_144          float64\n",
       "D_145          float64\n",
       "Length: 190, dtype: object"
      ]
     },
     "execution_count": 34,
     "metadata": {},
     "output_type": "execute_result"
    }
   ],
   "source": [
    "train2.dtypes"
   ]
  },
  {
   "cell_type": "code",
   "execution_count": 35,
   "metadata": {
    "execution": {
     "iopub.execute_input": "2022-11-10T18:13:22.285258Z",
     "iopub.status.busy": "2022-11-10T18:13:22.284034Z",
     "iopub.status.idle": "2022-11-10T18:13:22.292607Z",
     "shell.execute_reply": "2022-11-10T18:13:22.291394Z",
     "shell.execute_reply.started": "2022-11-10T18:13:22.285220Z"
    }
   },
   "outputs": [],
   "source": [
    "category = ['B_30', 'B_38', 'D_114', 'D_116', 'D_117', 'D_120', 'D_126', 'D_63', 'D_64', 'D_66', 'D_68']"
   ]
  },
  {
   "cell_type": "code",
   "execution_count": 36,
   "metadata": {
    "execution": {
     "iopub.execute_input": "2022-11-10T18:13:22.294805Z",
     "iopub.status.busy": "2022-11-10T18:13:22.294291Z",
     "iopub.status.idle": "2022-11-10T18:13:23.190314Z",
     "shell.execute_reply": "2022-11-10T18:13:23.189144Z",
     "shell.execute_reply.started": "2022-11-10T18:13:22.294763Z"
    }
   },
   "outputs": [],
   "source": [
    "#converting the datatypes\n",
    "\n",
    "for i in category:\n",
    "    train2[i] = train2[i].astype('category')"
   ]
  },
  {
   "cell_type": "code",
   "execution_count": 37,
   "metadata": {
    "execution": {
     "iopub.execute_input": "2022-11-10T18:13:23.192826Z",
     "iopub.status.busy": "2022-11-10T18:13:23.192132Z",
     "iopub.status.idle": "2022-11-10T18:13:23.282096Z",
     "shell.execute_reply": "2022-11-10T18:13:23.280878Z",
     "shell.execute_reply.started": "2022-11-10T18:13:23.192774Z"
    }
   },
   "outputs": [],
   "source": [
    "#converting the datatypes\n",
    "train2['customer_ID'] = train2['customer_ID'].astype('category')\n",
    "train2['S_2'] = pd.to_datetime(train2['S_2'])"
   ]
  },
  {
   "cell_type": "code",
   "execution_count": 38,
   "metadata": {
    "execution": {
     "iopub.execute_input": "2022-11-10T18:13:23.284543Z",
     "iopub.status.busy": "2022-11-10T18:13:23.284051Z",
     "iopub.status.idle": "2022-11-10T18:13:23.396934Z",
     "shell.execute_reply": "2022-11-10T18:13:23.395901Z",
     "shell.execute_reply.started": "2022-11-10T18:13:23.284479Z"
    }
   },
   "outputs": [],
   "source": [
    "numerical_list = train2.select_dtypes(include = ['int','float64']).columns\n",
    "categoric_list = train2.select_dtypes(include = ['category','datetime64[ns]']).columns"
   ]
  },
  {
   "cell_type": "code",
   "execution_count": 39,
   "metadata": {
    "execution": {
     "iopub.execute_input": "2022-11-10T18:13:23.398578Z",
     "iopub.status.busy": "2022-11-10T18:13:23.398268Z",
     "iopub.status.idle": "2022-11-10T18:13:23.475589Z",
     "shell.execute_reply": "2022-11-10T18:13:23.474702Z",
     "shell.execute_reply.started": "2022-11-10T18:13:23.398550Z"
    }
   },
   "outputs": [
    {
     "name": "stderr",
     "output_type": "stream",
     "text": [
      "/opt/conda/lib/python3.7/site-packages/ipykernel_launcher.py:1: FutureWarning: Treating datetime data as categorical rather than numeric in `.describe` is deprecated and will be removed in a future version of pandas. Specify `datetime_is_numeric=True` to silence this warning and adopt the future behavior now.\n",
      "  \"\"\"Entry point for launching an IPython kernel.\n"
     ]
    },
    {
     "data": {
      "text/html": [
       "<div>\n",
       "<style scoped>\n",
       "    .dataframe tbody tr th:only-of-type {\n",
       "        vertical-align: middle;\n",
       "    }\n",
       "\n",
       "    .dataframe tbody tr th {\n",
       "        vertical-align: top;\n",
       "    }\n",
       "\n",
       "    .dataframe thead th {\n",
       "        text-align: right;\n",
       "    }\n",
       "</style>\n",
       "<table border=\"1\" class=\"dataframe\">\n",
       "  <thead>\n",
       "    <tr style=\"text-align: right;\">\n",
       "      <th></th>\n",
       "      <th>customer_ID</th>\n",
       "      <th>S_2</th>\n",
       "      <th>D_63</th>\n",
       "      <th>D_64</th>\n",
       "      <th>D_66</th>\n",
       "      <th>D_68</th>\n",
       "      <th>B_30</th>\n",
       "      <th>B_38</th>\n",
       "      <th>D_114</th>\n",
       "      <th>D_116</th>\n",
       "      <th>D_117</th>\n",
       "      <th>D_120</th>\n",
       "      <th>D_126</th>\n",
       "    </tr>\n",
       "  </thead>\n",
       "  <tbody>\n",
       "    <tr>\n",
       "      <th>count</th>\n",
       "      <td>200000</td>\n",
       "      <td>200000</td>\n",
       "      <td>200000</td>\n",
       "      <td>191960</td>\n",
       "      <td>22180.0</td>\n",
       "      <td>192128.0</td>\n",
       "      <td>199928.0</td>\n",
       "      <td>199928.0</td>\n",
       "      <td>193655.0</td>\n",
       "      <td>193655.0</td>\n",
       "      <td>193655.0</td>\n",
       "      <td>193655.0</td>\n",
       "      <td>195775.0</td>\n",
       "    </tr>\n",
       "    <tr>\n",
       "      <th>unique</th>\n",
       "      <td>16576</td>\n",
       "      <td>396</td>\n",
       "      <td>6</td>\n",
       "      <td>4</td>\n",
       "      <td>2.0</td>\n",
       "      <td>7.0</td>\n",
       "      <td>3.0</td>\n",
       "      <td>7.0</td>\n",
       "      <td>2.0</td>\n",
       "      <td>2.0</td>\n",
       "      <td>7.0</td>\n",
       "      <td>2.0</td>\n",
       "      <td>3.0</td>\n",
       "    </tr>\n",
       "    <tr>\n",
       "      <th>top</th>\n",
       "      <td>0000099d6bd597052cdcda90ffabf56573fe9d7c79be5f...</td>\n",
       "      <td>2018-02-17 00:00:00</td>\n",
       "      <td>CO</td>\n",
       "      <td>O</td>\n",
       "      <td>1.0</td>\n",
       "      <td>6.0</td>\n",
       "      <td>0.0</td>\n",
       "      <td>2.0</td>\n",
       "      <td>1.0</td>\n",
       "      <td>0.0</td>\n",
       "      <td>-1.0</td>\n",
       "      <td>0.0</td>\n",
       "      <td>1.0</td>\n",
       "    </tr>\n",
       "    <tr>\n",
       "      <th>freq</th>\n",
       "      <td>13</td>\n",
       "      <td>933</td>\n",
       "      <td>148773</td>\n",
       "      <td>105870</td>\n",
       "      <td>21951.0</td>\n",
       "      <td>100010.0</td>\n",
       "      <td>169651.0</td>\n",
       "      <td>69185.0</td>\n",
       "      <td>119921.0</td>\n",
       "      <td>193429.0</td>\n",
       "      <td>52208.0</td>\n",
       "      <td>170250.0</td>\n",
       "      <td>154085.0</td>\n",
       "    </tr>\n",
       "    <tr>\n",
       "      <th>first</th>\n",
       "      <td>NaN</td>\n",
       "      <td>2017-03-01 00:00:00</td>\n",
       "      <td>NaN</td>\n",
       "      <td>NaN</td>\n",
       "      <td>NaN</td>\n",
       "      <td>NaN</td>\n",
       "      <td>NaN</td>\n",
       "      <td>NaN</td>\n",
       "      <td>NaN</td>\n",
       "      <td>NaN</td>\n",
       "      <td>NaN</td>\n",
       "      <td>NaN</td>\n",
       "      <td>NaN</td>\n",
       "    </tr>\n",
       "    <tr>\n",
       "      <th>last</th>\n",
       "      <td>NaN</td>\n",
       "      <td>2018-03-31 00:00:00</td>\n",
       "      <td>NaN</td>\n",
       "      <td>NaN</td>\n",
       "      <td>NaN</td>\n",
       "      <td>NaN</td>\n",
       "      <td>NaN</td>\n",
       "      <td>NaN</td>\n",
       "      <td>NaN</td>\n",
       "      <td>NaN</td>\n",
       "      <td>NaN</td>\n",
       "      <td>NaN</td>\n",
       "      <td>NaN</td>\n",
       "    </tr>\n",
       "  </tbody>\n",
       "</table>\n",
       "</div>"
      ],
      "text/plain": [
       "                                              customer_ID  \\\n",
       "count                                              200000   \n",
       "unique                                              16576   \n",
       "top     0000099d6bd597052cdcda90ffabf56573fe9d7c79be5f...   \n",
       "freq                                                   13   \n",
       "first                                                 NaN   \n",
       "last                                                  NaN   \n",
       "\n",
       "                        S_2    D_63    D_64     D_66      D_68      B_30  \\\n",
       "count                200000  200000  191960  22180.0  192128.0  199928.0   \n",
       "unique                  396       6       4      2.0       7.0       3.0   \n",
       "top     2018-02-17 00:00:00      CO       O      1.0       6.0       0.0   \n",
       "freq                    933  148773  105870  21951.0  100010.0  169651.0   \n",
       "first   2017-03-01 00:00:00     NaN     NaN      NaN       NaN       NaN   \n",
       "last    2018-03-31 00:00:00     NaN     NaN      NaN       NaN       NaN   \n",
       "\n",
       "            B_38     D_114     D_116     D_117     D_120     D_126  \n",
       "count   199928.0  193655.0  193655.0  193655.0  193655.0  195775.0  \n",
       "unique       7.0       2.0       2.0       7.0       2.0       3.0  \n",
       "top          2.0       1.0       0.0      -1.0       0.0       1.0  \n",
       "freq     69185.0  119921.0  193429.0   52208.0  170250.0  154085.0  \n",
       "first        NaN       NaN       NaN       NaN       NaN       NaN  \n",
       "last         NaN       NaN       NaN       NaN       NaN       NaN  "
      ]
     },
     "execution_count": 39,
     "metadata": {},
     "output_type": "execute_result"
    }
   ],
   "source": [
    "train2[categoric_list].describe()"
   ]
  },
  {
   "cell_type": "code",
   "execution_count": 40,
   "metadata": {
    "execution": {
     "iopub.execute_input": "2022-11-10T18:13:23.479211Z",
     "iopub.status.busy": "2022-11-10T18:13:23.478837Z",
     "iopub.status.idle": "2022-11-10T18:13:25.631358Z",
     "shell.execute_reply": "2022-11-10T18:13:25.630331Z",
     "shell.execute_reply.started": "2022-11-10T18:13:23.479178Z"
    }
   },
   "outputs": [
    {
     "data": {
      "text/html": [
       "<div>\n",
       "<style scoped>\n",
       "    .dataframe tbody tr th:only-of-type {\n",
       "        vertical-align: middle;\n",
       "    }\n",
       "\n",
       "    .dataframe tbody tr th {\n",
       "        vertical-align: top;\n",
       "    }\n",
       "\n",
       "    .dataframe thead th {\n",
       "        text-align: right;\n",
       "    }\n",
       "</style>\n",
       "<table border=\"1\" class=\"dataframe\">\n",
       "  <thead>\n",
       "    <tr style=\"text-align: right;\">\n",
       "      <th></th>\n",
       "      <th>P_2</th>\n",
       "      <th>D_39</th>\n",
       "      <th>B_1</th>\n",
       "      <th>B_2</th>\n",
       "      <th>R_1</th>\n",
       "      <th>S_3</th>\n",
       "      <th>D_41</th>\n",
       "      <th>B_3</th>\n",
       "      <th>D_42</th>\n",
       "      <th>D_43</th>\n",
       "      <th>...</th>\n",
       "      <th>D_136</th>\n",
       "      <th>D_137</th>\n",
       "      <th>D_138</th>\n",
       "      <th>D_139</th>\n",
       "      <th>D_140</th>\n",
       "      <th>D_141</th>\n",
       "      <th>D_142</th>\n",
       "      <th>D_143</th>\n",
       "      <th>D_144</th>\n",
       "      <th>D_145</th>\n",
       "    </tr>\n",
       "  </thead>\n",
       "  <tbody>\n",
       "    <tr>\n",
       "      <th>count</th>\n",
       "      <td>198458.00</td>\n",
       "      <td>200000.00</td>\n",
       "      <td>200000.00</td>\n",
       "      <td>199928.00</td>\n",
       "      <td>200000.00</td>\n",
       "      <td>162335.00</td>\n",
       "      <td>199928.00</td>\n",
       "      <td>199928.00</td>\n",
       "      <td>29193.00</td>\n",
       "      <td>139942.00</td>\n",
       "      <td>...</td>\n",
       "      <td>7186.00</td>\n",
       "      <td>7186.00</td>\n",
       "      <td>7186.00</td>\n",
       "      <td>196497.00</td>\n",
       "      <td>198581.00</td>\n",
       "      <td>196497.00</td>\n",
       "      <td>34356.00</td>\n",
       "      <td>196497.00</td>\n",
       "      <td>198567.00</td>\n",
       "      <td>196497.00</td>\n",
       "    </tr>\n",
       "    <tr>\n",
       "      <th>mean</th>\n",
       "      <td>0.65</td>\n",
       "      <td>0.15</td>\n",
       "      <td>0.13</td>\n",
       "      <td>0.62</td>\n",
       "      <td>0.08</td>\n",
       "      <td>0.23</td>\n",
       "      <td>0.06</td>\n",
       "      <td>0.13</td>\n",
       "      <td>0.18</td>\n",
       "      <td>0.16</td>\n",
       "      <td>...</td>\n",
       "      <td>0.25</td>\n",
       "      <td>0.01</td>\n",
       "      <td>0.16</td>\n",
       "      <td>0.18</td>\n",
       "      <td>0.03</td>\n",
       "      <td>0.17</td>\n",
       "      <td>0.39</td>\n",
       "      <td>0.18</td>\n",
       "      <td>0.05</td>\n",
       "      <td>0.06</td>\n",
       "    </tr>\n",
       "    <tr>\n",
       "      <th>std</th>\n",
       "      <td>0.25</td>\n",
       "      <td>0.27</td>\n",
       "      <td>0.21</td>\n",
       "      <td>0.40</td>\n",
       "      <td>0.23</td>\n",
       "      <td>0.20</td>\n",
       "      <td>0.21</td>\n",
       "      <td>0.23</td>\n",
       "      <td>0.22</td>\n",
       "      <td>0.22</td>\n",
       "      <td>...</td>\n",
       "      <td>0.21</td>\n",
       "      <td>0.10</td>\n",
       "      <td>0.26</td>\n",
       "      <td>0.38</td>\n",
       "      <td>0.14</td>\n",
       "      <td>0.35</td>\n",
       "      <td>0.24</td>\n",
       "      <td>0.38</td>\n",
       "      <td>0.19</td>\n",
       "      <td>0.19</td>\n",
       "    </tr>\n",
       "    <tr>\n",
       "      <th>min</th>\n",
       "      <td>-0.38</td>\n",
       "      <td>0.00</td>\n",
       "      <td>-0.90</td>\n",
       "      <td>0.00</td>\n",
       "      <td>0.00</td>\n",
       "      <td>-0.25</td>\n",
       "      <td>0.00</td>\n",
       "      <td>0.00</td>\n",
       "      <td>-0.00</td>\n",
       "      <td>0.00</td>\n",
       "      <td>...</td>\n",
       "      <td>0.00</td>\n",
       "      <td>0.00</td>\n",
       "      <td>0.00</td>\n",
       "      <td>0.00</td>\n",
       "      <td>0.00</td>\n",
       "      <td>0.00</td>\n",
       "      <td>-0.01</td>\n",
       "      <td>0.00</td>\n",
       "      <td>0.00</td>\n",
       "      <td>0.00</td>\n",
       "    </tr>\n",
       "    <tr>\n",
       "      <th>25%</th>\n",
       "      <td>0.48</td>\n",
       "      <td>0.00</td>\n",
       "      <td>0.01</td>\n",
       "      <td>0.10</td>\n",
       "      <td>0.00</td>\n",
       "      <td>0.13</td>\n",
       "      <td>0.00</td>\n",
       "      <td>0.01</td>\n",
       "      <td>0.04</td>\n",
       "      <td>0.04</td>\n",
       "      <td>...</td>\n",
       "      <td>0.01</td>\n",
       "      <td>0.00</td>\n",
       "      <td>0.00</td>\n",
       "      <td>0.00</td>\n",
       "      <td>0.00</td>\n",
       "      <td>0.00</td>\n",
       "      <td>0.20</td>\n",
       "      <td>0.00</td>\n",
       "      <td>0.00</td>\n",
       "      <td>0.00</td>\n",
       "    </tr>\n",
       "    <tr>\n",
       "      <th>50%</th>\n",
       "      <td>0.69</td>\n",
       "      <td>0.01</td>\n",
       "      <td>0.03</td>\n",
       "      <td>0.81</td>\n",
       "      <td>0.01</td>\n",
       "      <td>0.16</td>\n",
       "      <td>0.01</td>\n",
       "      <td>0.01</td>\n",
       "      <td>0.12</td>\n",
       "      <td>0.09</td>\n",
       "      <td>...</td>\n",
       "      <td>0.25</td>\n",
       "      <td>0.01</td>\n",
       "      <td>0.01</td>\n",
       "      <td>0.01</td>\n",
       "      <td>0.01</td>\n",
       "      <td>0.01</td>\n",
       "      <td>0.38</td>\n",
       "      <td>0.01</td>\n",
       "      <td>0.01</td>\n",
       "      <td>0.01</td>\n",
       "    </tr>\n",
       "    <tr>\n",
       "      <th>75%</th>\n",
       "      <td>0.86</td>\n",
       "      <td>0.24</td>\n",
       "      <td>0.13</td>\n",
       "      <td>1.00</td>\n",
       "      <td>0.01</td>\n",
       "      <td>0.26</td>\n",
       "      <td>0.01</td>\n",
       "      <td>0.16</td>\n",
       "      <td>0.25</td>\n",
       "      <td>0.19</td>\n",
       "      <td>...</td>\n",
       "      <td>0.26</td>\n",
       "      <td>0.01</td>\n",
       "      <td>0.50</td>\n",
       "      <td>0.01</td>\n",
       "      <td>0.01</td>\n",
       "      <td>0.01</td>\n",
       "      <td>0.57</td>\n",
       "      <td>0.01</td>\n",
       "      <td>0.01</td>\n",
       "      <td>0.01</td>\n",
       "    </tr>\n",
       "    <tr>\n",
       "      <th>max</th>\n",
       "      <td>1.01</td>\n",
       "      <td>5.33</td>\n",
       "      <td>1.32</td>\n",
       "      <td>1.01</td>\n",
       "      <td>2.51</td>\n",
       "      <td>2.92</td>\n",
       "      <td>6.80</td>\n",
       "      <td>1.63</td>\n",
       "      <td>3.25</td>\n",
       "      <td>9.09</td>\n",
       "      <td>...</td>\n",
       "      <td>1.51</td>\n",
       "      <td>1.01</td>\n",
       "      <td>1.51</td>\n",
       "      <td>1.01</td>\n",
       "      <td>1.01</td>\n",
       "      <td>1.17</td>\n",
       "      <td>1.75</td>\n",
       "      <td>1.01</td>\n",
       "      <td>1.34</td>\n",
       "      <td>4.28</td>\n",
       "    </tr>\n",
       "  </tbody>\n",
       "</table>\n",
       "<p>8 rows × 177 columns</p>\n",
       "</div>"
      ],
      "text/plain": [
       "             P_2       D_39        B_1        B_2        R_1        S_3  \\\n",
       "count  198458.00  200000.00  200000.00  199928.00  200000.00  162335.00   \n",
       "mean        0.65       0.15       0.13       0.62       0.08       0.23   \n",
       "std         0.25       0.27       0.21       0.40       0.23       0.20   \n",
       "min        -0.38       0.00      -0.90       0.00       0.00      -0.25   \n",
       "25%         0.48       0.00       0.01       0.10       0.00       0.13   \n",
       "50%         0.69       0.01       0.03       0.81       0.01       0.16   \n",
       "75%         0.86       0.24       0.13       1.00       0.01       0.26   \n",
       "max         1.01       5.33       1.32       1.01       2.51       2.92   \n",
       "\n",
       "            D_41        B_3      D_42       D_43  ...    D_136    D_137  \\\n",
       "count  199928.00  199928.00  29193.00  139942.00  ...  7186.00  7186.00   \n",
       "mean        0.06       0.13      0.18       0.16  ...     0.25     0.01   \n",
       "std         0.21       0.23      0.22       0.22  ...     0.21     0.10   \n",
       "min         0.00       0.00     -0.00       0.00  ...     0.00     0.00   \n",
       "25%         0.00       0.01      0.04       0.04  ...     0.01     0.00   \n",
       "50%         0.01       0.01      0.12       0.09  ...     0.25     0.01   \n",
       "75%         0.01       0.16      0.25       0.19  ...     0.26     0.01   \n",
       "max         6.80       1.63      3.25       9.09  ...     1.51     1.01   \n",
       "\n",
       "         D_138      D_139      D_140      D_141     D_142      D_143  \\\n",
       "count  7186.00  196497.00  198581.00  196497.00  34356.00  196497.00   \n",
       "mean      0.16       0.18       0.03       0.17      0.39       0.18   \n",
       "std       0.26       0.38       0.14       0.35      0.24       0.38   \n",
       "min       0.00       0.00       0.00       0.00     -0.01       0.00   \n",
       "25%       0.00       0.00       0.00       0.00      0.20       0.00   \n",
       "50%       0.01       0.01       0.01       0.01      0.38       0.01   \n",
       "75%       0.50       0.01       0.01       0.01      0.57       0.01   \n",
       "max       1.51       1.01       1.01       1.17      1.75       1.01   \n",
       "\n",
       "           D_144      D_145  \n",
       "count  198567.00  196497.00  \n",
       "mean        0.05       0.06  \n",
       "std         0.19       0.19  \n",
       "min         0.00       0.00  \n",
       "25%         0.00       0.00  \n",
       "50%         0.01       0.01  \n",
       "75%         0.01       0.01  \n",
       "max         1.34       4.28  \n",
       "\n",
       "[8 rows x 177 columns]"
      ]
     },
     "execution_count": 40,
     "metadata": {},
     "output_type": "execute_result"
    }
   ],
   "source": [
    "train2.describe().round(2)"
   ]
  },
  {
   "cell_type": "code",
   "execution_count": 41,
   "metadata": {
    "execution": {
     "iopub.execute_input": "2022-11-10T18:13:25.633362Z",
     "iopub.status.busy": "2022-11-10T18:13:25.632916Z",
     "iopub.status.idle": "2022-11-10T18:13:25.664343Z",
     "shell.execute_reply": "2022-11-10T18:13:25.662963Z",
     "shell.execute_reply.started": "2022-11-10T18:13:25.633326Z"
    }
   },
   "outputs": [
    {
     "name": "stdout",
     "output_type": "stream",
     "text": [
      "customer_ID  : Low Cardinality :  16576\n",
      "S_2  : Low Cardinality :  396\n",
      "D_63  : Low Cardinality :  6\n",
      "D_64  : Low Cardinality :  4\n",
      "D_66  : Low Cardinality :  2\n",
      "D_68  : Low Cardinality :  7\n",
      "B_30  : Low Cardinality :  3\n",
      "B_38  : Low Cardinality :  7\n",
      "D_114  : Low Cardinality :  2\n",
      "D_116  : Low Cardinality :  2\n",
      "D_117  : Low Cardinality :  7\n",
      "D_120  : Low Cardinality :  2\n",
      "D_126  : Low Cardinality :  3\n"
     ]
    }
   ],
   "source": [
    "cardinality(train2, categoric_list)"
   ]
  }
 ],
 "metadata": {
  "kernelspec": {
   "display_name": "Python 3 (ipykernel)",
   "language": "python",
   "name": "python3"
  },
  "language_info": {
   "codemirror_mode": {
    "name": "ipython",
    "version": 3
   },
   "file_extension": ".py",
   "mimetype": "text/x-python",
   "name": "python",
   "nbconvert_exporter": "python",
   "pygments_lexer": "ipython3",
   "version": "3.9.12"
  }
 },
 "nbformat": 4,
 "nbformat_minor": 4
}
